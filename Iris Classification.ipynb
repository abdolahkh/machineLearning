{
 "cells": [
  {
   "cell_type": "markdown",
   "id": "26b6d7f3-cea1-44d6-8d33-e09d87461fbe",
   "metadata": {},
   "source": [
    "<div>\n",
    "    <h1><b>Iris flower classification with accuracy 0.95</b></h1>\n",
    "    <br/>\n",
    "    <b>\n",
    "    <p>join us in the telegram channel <a href = \"https://t.me/elmedade\">@elmedade</a></p>\n",
    "    <p>We used from <a href = \"https://kaggle.com\">kaggle.com</a> as main source of this project</p>\n",
    "    </b>\n",
    "</div>"
   ]
  },
  {
   "cell_type": "markdown",
   "id": "f8e12951-0e53-4f51-8d34-bcc176466669",
   "metadata": {},
   "source": [
    "# What is classification?\n",
    "Classification is a type of supervised machine learning task where the goal is to predict the class or category of a given input data point. In classification, we have a set of labeled data points, where each data point is associated with a class or category. The task is to build a model that can learn from this labeled data and then classify new, unseen data points into one of the predefined classes.\n",
    "\n",
    "For example, in email spam detection, we can have a dataset of emails labeled as either \"spam\" or \"not spam\". The classification model is trained on this labeled data to learn patterns and features that distinguish spam emails from non-spam emails. Once trained, the model can then classify new, unseen emails as either spam or not spam based on the learned patterns.\n",
    "\n",
    "Classification algorithms can be implemented using various machine learning packages such as scikit-learn in Python."
   ]
  },
  {
   "cell_type": "markdown",
   "id": "100a7e3f-e650-474c-a139-ed67414d3edd",
   "metadata": {},
   "source": [
    "# Somethings about Iris dataset\n",
    "The Iris dataset is a popular dataset in machine learning and statistics. It is often used as a beginner's dataset for learning classification algorithms. The dataset consists of measurements of four features (sepal length, sepal width, petal length, and petal width) of three different species of Iris flowers (setosa, versicolor, and virginica). Each species has 50 samples, resulting in a total of 150 samples in the dataset. The goal is to classify the species of an Iris flower based on its measurements."
   ]
  },
  {
   "cell_type": "markdown",
   "id": "ed4f4a10-78a5-4462-b605-ac32027b718c",
   "metadata": {},
   "source": [
    "# Iris classification problem"
   ]
  },
  {
   "cell_type": "code",
   "execution_count": 16,
   "id": "c7e597a0-d96f-4dac-bb2d-c99bc36ee47e",
   "metadata": {},
   "outputs": [],
   "source": [
    "# import nessessory libraries on the project\n",
    "%matplotlib inline\n",
    "import matplotlib.pyplot as plt\n",
    "import numpy as np\n",
    "import pandas as pd\n",
    "import seaborn as sns"
   ]
  },
  {
   "cell_type": "code",
   "execution_count": 22,
   "id": "a3edd77a-fb3a-4a8b-94e3-1ef9dff2cfdf",
   "metadata": {},
   "outputs": [],
   "source": [
    "# read dataset with pandas\n",
    "df = pd.read_csv(\"Iris.csv\")"
   ]
  },
  {
   "cell_type": "code",
   "execution_count": 197,
   "id": "5e328ea8-607b-4416-94a8-587defd4e9c6",
   "metadata": {},
   "outputs": [],
   "source": [
    "df.drop('Id',axis=1,inplace=True)"
   ]
  },
  {
   "cell_type": "code",
   "execution_count": 198,
   "id": "177a4cf9-b674-437e-bc19-cb476f3037bb",
   "metadata": {},
   "outputs": [
    {
     "data": {
      "text/html": [
       "<div>\n",
       "<style scoped>\n",
       "    .dataframe tbody tr th:only-of-type {\n",
       "        vertical-align: middle;\n",
       "    }\n",
       "\n",
       "    .dataframe tbody tr th {\n",
       "        vertical-align: top;\n",
       "    }\n",
       "\n",
       "    .dataframe thead th {\n",
       "        text-align: right;\n",
       "    }\n",
       "</style>\n",
       "<table border=\"1\" class=\"dataframe\">\n",
       "  <thead>\n",
       "    <tr style=\"text-align: right;\">\n",
       "      <th></th>\n",
       "      <th>SepalLengthCm</th>\n",
       "      <th>SepalWidthCm</th>\n",
       "      <th>PetalLengthCm</th>\n",
       "      <th>PetalWidthCm</th>\n",
       "      <th>Species</th>\n",
       "    </tr>\n",
       "  </thead>\n",
       "  <tbody>\n",
       "    <tr>\n",
       "      <th>0</th>\n",
       "      <td>5.1</td>\n",
       "      <td>3.5</td>\n",
       "      <td>1.4</td>\n",
       "      <td>0.2</td>\n",
       "      <td>0</td>\n",
       "    </tr>\n",
       "    <tr>\n",
       "      <th>1</th>\n",
       "      <td>4.9</td>\n",
       "      <td>3.0</td>\n",
       "      <td>1.4</td>\n",
       "      <td>0.2</td>\n",
       "      <td>0</td>\n",
       "    </tr>\n",
       "    <tr>\n",
       "      <th>2</th>\n",
       "      <td>4.7</td>\n",
       "      <td>3.2</td>\n",
       "      <td>1.3</td>\n",
       "      <td>0.2</td>\n",
       "      <td>0</td>\n",
       "    </tr>\n",
       "    <tr>\n",
       "      <th>3</th>\n",
       "      <td>4.6</td>\n",
       "      <td>3.1</td>\n",
       "      <td>1.5</td>\n",
       "      <td>0.2</td>\n",
       "      <td>0</td>\n",
       "    </tr>\n",
       "    <tr>\n",
       "      <th>4</th>\n",
       "      <td>5.0</td>\n",
       "      <td>3.6</td>\n",
       "      <td>1.4</td>\n",
       "      <td>0.2</td>\n",
       "      <td>0</td>\n",
       "    </tr>\n",
       "  </tbody>\n",
       "</table>\n",
       "</div>"
      ],
      "text/plain": [
       "   SepalLengthCm  SepalWidthCm  PetalLengthCm  PetalWidthCm  Species\n",
       "0            5.1           3.5            1.4           0.2        0\n",
       "1            4.9           3.0            1.4           0.2        0\n",
       "2            4.7           3.2            1.3           0.2        0\n",
       "3            4.6           3.1            1.5           0.2        0\n",
       "4            5.0           3.6            1.4           0.2        0"
      ]
     },
     "execution_count": 198,
     "metadata": {},
     "output_type": "execute_result"
    }
   ],
   "source": [
    "# show five rows from dataset\n",
    "df.head()"
   ]
  },
  {
   "cell_type": "code",
   "execution_count": 199,
   "id": "85326810-a827-4c12-8700-87be3617e405",
   "metadata": {},
   "outputs": [
    {
     "name": "stdout",
     "output_type": "stream",
     "text": [
      "<class 'pandas.core.frame.DataFrame'>\n",
      "Int64Index: 150 entries, 0 to 149\n",
      "Data columns (total 5 columns):\n",
      " #   Column         Non-Null Count  Dtype  \n",
      "---  ------         --------------  -----  \n",
      " 0   SepalLengthCm  150 non-null    float64\n",
      " 1   SepalWidthCm   150 non-null    float64\n",
      " 2   PetalLengthCm  150 non-null    float64\n",
      " 3   PetalWidthCm   150 non-null    float64\n",
      " 4   Species        150 non-null    int8   \n",
      "dtypes: float64(4), int8(1)\n",
      "memory usage: 6.0 KB\n"
     ]
    }
   ],
   "source": [
    "# some information about dataset\n",
    "df.info()"
   ]
  },
  {
   "cell_type": "code",
   "execution_count": 200,
   "id": "9d5c0835-2df5-46a8-a4be-a50a04995e38",
   "metadata": {},
   "outputs": [
    {
     "data": {
      "text/html": [
       "<div>\n",
       "<style scoped>\n",
       "    .dataframe tbody tr th:only-of-type {\n",
       "        vertical-align: middle;\n",
       "    }\n",
       "\n",
       "    .dataframe tbody tr th {\n",
       "        vertical-align: top;\n",
       "    }\n",
       "\n",
       "    .dataframe thead th {\n",
       "        text-align: right;\n",
       "    }\n",
       "</style>\n",
       "<table border=\"1\" class=\"dataframe\">\n",
       "  <thead>\n",
       "    <tr style=\"text-align: right;\">\n",
       "      <th></th>\n",
       "      <th>SepalLengthCm</th>\n",
       "      <th>SepalWidthCm</th>\n",
       "      <th>PetalLengthCm</th>\n",
       "      <th>PetalWidthCm</th>\n",
       "      <th>Species</th>\n",
       "    </tr>\n",
       "  </thead>\n",
       "  <tbody>\n",
       "    <tr>\n",
       "      <th>count</th>\n",
       "      <td>150.000000</td>\n",
       "      <td>150.000000</td>\n",
       "      <td>150.000000</td>\n",
       "      <td>150.000000</td>\n",
       "      <td>150.000000</td>\n",
       "    </tr>\n",
       "    <tr>\n",
       "      <th>mean</th>\n",
       "      <td>5.843333</td>\n",
       "      <td>3.054000</td>\n",
       "      <td>3.758667</td>\n",
       "      <td>1.198667</td>\n",
       "      <td>1.000000</td>\n",
       "    </tr>\n",
       "    <tr>\n",
       "      <th>std</th>\n",
       "      <td>0.828066</td>\n",
       "      <td>0.433594</td>\n",
       "      <td>1.764420</td>\n",
       "      <td>0.763161</td>\n",
       "      <td>0.819232</td>\n",
       "    </tr>\n",
       "    <tr>\n",
       "      <th>min</th>\n",
       "      <td>4.300000</td>\n",
       "      <td>2.000000</td>\n",
       "      <td>1.000000</td>\n",
       "      <td>0.100000</td>\n",
       "      <td>0.000000</td>\n",
       "    </tr>\n",
       "    <tr>\n",
       "      <th>25%</th>\n",
       "      <td>5.100000</td>\n",
       "      <td>2.800000</td>\n",
       "      <td>1.600000</td>\n",
       "      <td>0.300000</td>\n",
       "      <td>0.000000</td>\n",
       "    </tr>\n",
       "    <tr>\n",
       "      <th>50%</th>\n",
       "      <td>5.800000</td>\n",
       "      <td>3.000000</td>\n",
       "      <td>4.350000</td>\n",
       "      <td>1.300000</td>\n",
       "      <td>1.000000</td>\n",
       "    </tr>\n",
       "    <tr>\n",
       "      <th>75%</th>\n",
       "      <td>6.400000</td>\n",
       "      <td>3.300000</td>\n",
       "      <td>5.100000</td>\n",
       "      <td>1.800000</td>\n",
       "      <td>2.000000</td>\n",
       "    </tr>\n",
       "    <tr>\n",
       "      <th>max</th>\n",
       "      <td>7.900000</td>\n",
       "      <td>4.400000</td>\n",
       "      <td>6.900000</td>\n",
       "      <td>2.500000</td>\n",
       "      <td>2.000000</td>\n",
       "    </tr>\n",
       "  </tbody>\n",
       "</table>\n",
       "</div>"
      ],
      "text/plain": [
       "       SepalLengthCm  SepalWidthCm  PetalLengthCm  PetalWidthCm     Species\n",
       "count     150.000000    150.000000     150.000000    150.000000  150.000000\n",
       "mean        5.843333      3.054000       3.758667      1.198667    1.000000\n",
       "std         0.828066      0.433594       1.764420      0.763161    0.819232\n",
       "min         4.300000      2.000000       1.000000      0.100000    0.000000\n",
       "25%         5.100000      2.800000       1.600000      0.300000    0.000000\n",
       "50%         5.800000      3.000000       4.350000      1.300000    1.000000\n",
       "75%         6.400000      3.300000       5.100000      1.800000    2.000000\n",
       "max         7.900000      4.400000       6.900000      2.500000    2.000000"
      ]
     },
     "execution_count": 200,
     "metadata": {},
     "output_type": "execute_result"
    }
   ],
   "source": [
    "# discription of dataset\n",
    "df.describe()"
   ]
  },
  {
   "cell_type": "code",
   "execution_count": 201,
   "id": "f0540063-a997-4726-b64f-c1cd030c8ac9",
   "metadata": {},
   "outputs": [
    {
     "data": {
      "text/plain": [
       "0    50\n",
       "1    50\n",
       "2    50\n",
       "Name: Species, dtype: int64"
      ]
     },
     "execution_count": 201,
     "metadata": {},
     "output_type": "execute_result"
    }
   ],
   "source": [
    "# how many data from any type of irsis we have on dataset? number of rows\n",
    "df['Species'].value_counts()"
   ]
  },
  {
   "cell_type": "code",
   "execution_count": 202,
   "id": "dbf1af7d-2304-4175-b8dd-c82458a94d2a",
   "metadata": {},
   "outputs": [
    {
     "data": {
      "text/plain": [
       "SepalLengthCm    0\n",
       "SepalWidthCm     0\n",
       "PetalLengthCm    0\n",
       "PetalWidthCm     0\n",
       "Species          0\n",
       "dtype: int64"
      ]
     },
     "execution_count": 202,
     "metadata": {},
     "output_type": "execute_result"
    }
   ],
   "source": [
    "# finding the null values\n",
    "df.isnull().sum()"
   ]
  },
  {
   "cell_type": "markdown",
   "id": "62eafcdc-97ed-4fdc-b2fd-9fed067a7e3a",
   "metadata": {},
   "source": [
    "so we don't have any null value on the dataset\n",
    "null value should fill with some special value. e.g. we can fill that with mean or median of data with common feature."
   ]
  },
  {
   "cell_type": "markdown",
   "id": "ffb795ec-02e8-46cf-b1ee-5dfef061250c",
   "metadata": {},
   "source": [
    "# Making Neural Network"
   ]
  },
  {
   "cell_type": "markdown",
   "id": "873b4c4c-66d0-4cae-8106-7a709ea7dbd2",
   "metadata": {},
   "source": [
    "## What is neural network?\n",
    "A neural network is a computational model inspired by the structure and functioning of the human brain. It is a collection of interconnected nodes, called neurons, organized in layers. Each neuron receives input signals, performs a computation, and produces an output signal. The output of one neuron can serve as input to other neurons, allowing information to flow through the network.\n",
    "\n",
    "Neural networks are commonly used for tasks such as pattern recognition, classification, regression, and optimization. They are particularly effective in handling complex and non-linear relationships in data. The strength of a neural network lies in its ability to learn from data through a process called training. During training, the network adjusts the weights and biases of its neurons to minimize the difference between its predicted outputs and the desired outputs.\n",
    "\n",
    "Neural networks have gained popularity in recent years due to advancements in computational power and the availability of large datasets. They have been successfully applied in various domains, including image and speech recognition, natural language processing, and autonomous driving."
   ]
  },
  {
   "cell_type": "code",
   "execution_count": 203,
   "id": "34eb8f62-4535-4ac5-a51d-4cc183e0d3ff",
   "metadata": {},
   "outputs": [],
   "source": [
    "# input and output variable\n",
    "# Undependant and dependent variable\n",
    "X = df.drop('Species', axis = 1)\n",
    "y = df['Species']"
   ]
  },
  {
   "cell_type": "code",
   "execution_count": 204,
   "id": "91bd8267-99c3-4059-bb97-cc4bb7d388b7",
   "metadata": {},
   "outputs": [],
   "source": [
    "# importting libraries that we need to create a neural network model\n",
    "# in this project we used from keras ab based platform\n",
    "from keras.models import Sequential\n",
    "from keras.layers import Dense\n",
    "from keras.utils import to_categorical"
   ]
  },
  {
   "cell_type": "code",
   "execution_count": 205,
   "id": "f18425aa-db00-493f-94fc-1841b2882a47",
   "metadata": {},
   "outputs": [],
   "source": [
    "df['Species'] = pd.Categorical(df.Species)\n",
    "df['Species'] = df.Species.cat.codes"
   ]
  },
  {
   "cell_type": "markdown",
   "id": "e547a5e4-6a10-486f-8f51-a05435b7ee8c",
   "metadata": {},
   "source": [
    "The `pandas.Categorical` method in the pandas library is used to create a categorical variable or column in a DataFrame. Categorical variables are variables that can take on a limited and fixed set of values, often referred to as categories or levels. \n",
    "\n",
    "The `pandas.Categorical` method takes an array-like object (such as a list or a Series) as input and returns a new Categorical object. This object represents the categorical variable and contains the original values along with the categories and codes associated with each value.\n",
    "\n",
    "By converting a column to a categorical variable, you can achieve several benefits. Categorical variables can save memory by storing the values as integers rather than strings. They can also provide a more efficient representation for certain operations, such as grouping and aggregating data.\n"
   ]
  },
  {
   "cell_type": "code",
   "execution_count": 206,
   "id": "9354fc71-a74a-46b2-8fbb-977b24d6bb3d",
   "metadata": {},
   "outputs": [
    {
     "name": "stdout",
     "output_type": "stream",
     "text": [
      "['A', 'B', 'A', 'C', 'B']\n",
      "Categories (3, object): ['A', 'B', 'C']\n"
     ]
    }
   ],
   "source": [
    "# an example of how to use the 'pandas.Categorical' method:\n",
    "# Create a list of values\n",
    "data = ['A', 'B', 'A', 'C', 'B']\n",
    "\n",
    "# Convert the list to a categorical variable\n",
    "categorical_data = pd.Categorical(data)\n",
    "\n",
    "# Print the categorical variable\n",
    "print(categorical_data)"
   ]
  },
  {
   "cell_type": "code",
   "execution_count": 207,
   "id": "99ed8b67-6bc5-449d-8b48-0adba0b9502e",
   "metadata": {},
   "outputs": [
    {
     "data": {
      "text/plain": [
       "array([0, 1, 0, 2, 1], dtype=int8)"
      ]
     },
     "execution_count": 207,
     "metadata": {},
     "output_type": "execute_result"
    }
   ],
   "source": [
    "# .code covert the categorical values to a numerical values\n",
    "# A=>0, B=>1, C=>3\n",
    "categorical_data.codes"
   ]
  },
  {
   "cell_type": "code",
   "execution_count": 208,
   "id": "3d6caf42-4de2-4e87-8bb4-92c64ac137ea",
   "metadata": {},
   "outputs": [],
   "source": [
    "# replace the numerical values with categurical values in the dependant variable y\n",
    "y = to_categorical(df.Species)"
   ]
  },
  {
   "cell_type": "code",
   "execution_count": 209,
   "id": "c74f2121-a542-4172-86fe-735a866b075e",
   "metadata": {},
   "outputs": [],
   "source": [
    "# for training the model we need to splitting data to the train and test categuries\n",
    "# we used from sklearn for do that\n",
    "from sklearn.model_selection import train_test_split\n",
    "X_train, X_test, y_train, y_test = train_test_split(X, y, test_size = 0.3, stratify = y, random_state = 42)"
   ]
  },
  {
   "cell_type": "code",
   "execution_count": 210,
   "id": "eaa25a94-cf13-43c9-b34f-de18e1001cae",
   "metadata": {},
   "outputs": [
    {
     "data": {
      "text/html": [
       "<div>\n",
       "<style scoped>\n",
       "    .dataframe tbody tr th:only-of-type {\n",
       "        vertical-align: middle;\n",
       "    }\n",
       "\n",
       "    .dataframe tbody tr th {\n",
       "        vertical-align: top;\n",
       "    }\n",
       "\n",
       "    .dataframe thead th {\n",
       "        text-align: right;\n",
       "    }\n",
       "</style>\n",
       "<table border=\"1\" class=\"dataframe\">\n",
       "  <thead>\n",
       "    <tr style=\"text-align: right;\">\n",
       "      <th></th>\n",
       "      <th>SepalLengthCm</th>\n",
       "      <th>SepalWidthCm</th>\n",
       "      <th>PetalLengthCm</th>\n",
       "      <th>PetalWidthCm</th>\n",
       "    </tr>\n",
       "  </thead>\n",
       "  <tbody>\n",
       "    <tr>\n",
       "      <th>98</th>\n",
       "      <td>5.1</td>\n",
       "      <td>2.5</td>\n",
       "      <td>3.0</td>\n",
       "      <td>1.1</td>\n",
       "    </tr>\n",
       "    <tr>\n",
       "      <th>68</th>\n",
       "      <td>6.2</td>\n",
       "      <td>2.2</td>\n",
       "      <td>4.5</td>\n",
       "      <td>1.5</td>\n",
       "    </tr>\n",
       "    <tr>\n",
       "      <th>119</th>\n",
       "      <td>6.0</td>\n",
       "      <td>2.2</td>\n",
       "      <td>5.0</td>\n",
       "      <td>1.5</td>\n",
       "    </tr>\n",
       "    <tr>\n",
       "      <th>43</th>\n",
       "      <td>5.0</td>\n",
       "      <td>3.5</td>\n",
       "      <td>1.6</td>\n",
       "      <td>0.6</td>\n",
       "    </tr>\n",
       "    <tr>\n",
       "      <th>99</th>\n",
       "      <td>5.7</td>\n",
       "      <td>2.8</td>\n",
       "      <td>4.1</td>\n",
       "      <td>1.3</td>\n",
       "    </tr>\n",
       "    <tr>\n",
       "      <th>...</th>\n",
       "      <td>...</td>\n",
       "      <td>...</td>\n",
       "      <td>...</td>\n",
       "      <td>...</td>\n",
       "    </tr>\n",
       "    <tr>\n",
       "      <th>137</th>\n",
       "      <td>6.4</td>\n",
       "      <td>3.1</td>\n",
       "      <td>5.5</td>\n",
       "      <td>1.8</td>\n",
       "    </tr>\n",
       "    <tr>\n",
       "      <th>79</th>\n",
       "      <td>5.7</td>\n",
       "      <td>2.6</td>\n",
       "      <td>3.5</td>\n",
       "      <td>1.0</td>\n",
       "    </tr>\n",
       "    <tr>\n",
       "      <th>133</th>\n",
       "      <td>6.3</td>\n",
       "      <td>2.8</td>\n",
       "      <td>5.1</td>\n",
       "      <td>1.5</td>\n",
       "    </tr>\n",
       "    <tr>\n",
       "      <th>94</th>\n",
       "      <td>5.6</td>\n",
       "      <td>2.7</td>\n",
       "      <td>4.2</td>\n",
       "      <td>1.3</td>\n",
       "    </tr>\n",
       "    <tr>\n",
       "      <th>103</th>\n",
       "      <td>6.3</td>\n",
       "      <td>2.9</td>\n",
       "      <td>5.6</td>\n",
       "      <td>1.8</td>\n",
       "    </tr>\n",
       "  </tbody>\n",
       "</table>\n",
       "<p>105 rows × 4 columns</p>\n",
       "</div>"
      ],
      "text/plain": [
       "     SepalLengthCm  SepalWidthCm  PetalLengthCm  PetalWidthCm\n",
       "98             5.1           2.5            3.0           1.1\n",
       "68             6.2           2.2            4.5           1.5\n",
       "119            6.0           2.2            5.0           1.5\n",
       "43             5.0           3.5            1.6           0.6\n",
       "99             5.7           2.8            4.1           1.3\n",
       "..             ...           ...            ...           ...\n",
       "137            6.4           3.1            5.5           1.8\n",
       "79             5.7           2.6            3.5           1.0\n",
       "133            6.3           2.8            5.1           1.5\n",
       "94             5.6           2.7            4.2           1.3\n",
       "103            6.3           2.9            5.6           1.8\n",
       "\n",
       "[105 rows x 4 columns]"
      ]
     },
     "execution_count": 210,
     "metadata": {},
     "output_type": "execute_result"
    }
   ],
   "source": [
    "X_train"
   ]
  },
  {
   "cell_type": "code",
   "execution_count": 211,
   "id": "da71d081-650b-4ef4-b860-a765e24c3abc",
   "metadata": {},
   "outputs": [],
   "source": [
    "model = Sequential()\n",
    "model.add(Dense(100, activation = 'relu', input_shape = (4, )))\n",
    "model.add(Dense(3, activation = 'softmax'))"
   ]
  },
  {
   "cell_type": "markdown",
   "id": "b310ce58-249e-45aa-8594-97f2b59542e6",
   "metadata": {},
   "source": [
    "### *Sequential model in deep learning*\n",
    "In the context of deep learning, a sequential model refers to a type of neural network model that is composed of a linear stack of layers. It is called \"sequential\" because the layers are arranged sequentially, with one layer following another.\n",
    "\n",
    "The sequential model is a popular and straightforward way to build deep learning models using frameworks like Keras or TensorFlow. In a sequential model, you can add layers one by one, specifying the type of layer and its configuration. Each layer in the model takes the output of the previous layer as its input.\n",
    "\n",
    "Sequential models are commonly used for tasks such as image classification, text classification, and sequence prediction. They are well-suited for scenarios where the data flows in a sequential manner, such as in natural language processing or time series analysis.\n",
    "\n",
    "### *activation functions in this markdown*\n",
    "$$relu: f(x)= \\begin{cases}x & x>0 \\\\ 0 & x<0\\end{cases}$$\n",
    "$$ Softmax: f_i(\\vec{a})=\\frac{e^{a_i}}{\\sum_k e^{a_k}}$$"
   ]
  },
  {
   "cell_type": "code",
   "execution_count": 247,
   "id": "f23ac03c-9aca-486f-b25c-05054dcb9102",
   "metadata": {
    "scrolled": false
   },
   "outputs": [
    {
     "name": "stdout",
     "output_type": "stream",
     "text": [
      "Epoch 1/45\n",
      "4/4 [==============================] - 1s 57ms/step - loss: 0.1750 - accuracy: 0.9524 - val_loss: 0.1758 - val_accuracy: 0.9556\n",
      "Epoch 2/45\n",
      "4/4 [==============================] - 0s 10ms/step - loss: 0.1811 - accuracy: 0.9619 - val_loss: 0.1896 - val_accuracy: 0.9333\n",
      "Epoch 3/45\n",
      "4/4 [==============================] - 0s 11ms/step - loss: 0.1746 - accuracy: 0.9714 - val_loss: 0.1688 - val_accuracy: 0.9778\n",
      "Epoch 4/45\n",
      "4/4 [==============================] - 0s 10ms/step - loss: 0.1633 - accuracy: 0.9714 - val_loss: 0.1595 - val_accuracy: 0.9778\n",
      "Epoch 5/45\n",
      "4/4 [==============================] - 0s 10ms/step - loss: 0.1688 - accuracy: 0.9619 - val_loss: 0.1567 - val_accuracy: 1.0000\n",
      "Epoch 6/45\n",
      "4/4 [==============================] - 0s 11ms/step - loss: 0.1599 - accuracy: 0.9810 - val_loss: 0.1615 - val_accuracy: 0.9778\n",
      "Epoch 7/45\n",
      "4/4 [==============================] - 0s 11ms/step - loss: 0.1594 - accuracy: 0.9714 - val_loss: 0.1675 - val_accuracy: 0.9556\n",
      "Epoch 8/45\n",
      "4/4 [==============================] - 0s 11ms/step - loss: 0.1608 - accuracy: 0.9714 - val_loss: 0.1607 - val_accuracy: 0.9778\n",
      "Epoch 9/45\n",
      "4/4 [==============================] - 0s 11ms/step - loss: 0.1556 - accuracy: 0.9714 - val_loss: 0.1517 - val_accuracy: 0.9778\n",
      "Epoch 10/45\n",
      "4/4 [==============================] - 0s 10ms/step - loss: 0.1536 - accuracy: 0.9810 - val_loss: 0.1491 - val_accuracy: 0.9778\n",
      "Epoch 11/45\n",
      "4/4 [==============================] - 0s 9ms/step - loss: 0.1538 - accuracy: 0.9714 - val_loss: 0.1491 - val_accuracy: 0.9778\n",
      "Epoch 12/45\n",
      "4/4 [==============================] - 0s 10ms/step - loss: 0.1511 - accuracy: 0.9714 - val_loss: 0.1457 - val_accuracy: 0.9778\n",
      "Epoch 13/45\n",
      "4/4 [==============================] - 0s 9ms/step - loss: 0.1497 - accuracy: 0.9810 - val_loss: 0.1446 - val_accuracy: 0.9778\n",
      "Epoch 14/45\n",
      "4/4 [==============================] - 0s 13ms/step - loss: 0.1482 - accuracy: 0.9714 - val_loss: 0.1441 - val_accuracy: 0.9778\n",
      "Epoch 15/45\n",
      "4/4 [==============================] - 0s 13ms/step - loss: 0.1473 - accuracy: 0.9714 - val_loss: 0.1447 - val_accuracy: 0.9778\n",
      "Epoch 16/45\n",
      "4/4 [==============================] - 0s 11ms/step - loss: 0.1448 - accuracy: 0.9714 - val_loss: 0.1425 - val_accuracy: 0.9778\n",
      "Epoch 17/45\n",
      "4/4 [==============================] - 0s 10ms/step - loss: 0.1436 - accuracy: 0.9714 - val_loss: 0.1402 - val_accuracy: 0.9778\n",
      "Epoch 18/45\n",
      "4/4 [==============================] - 0s 11ms/step - loss: 0.1421 - accuracy: 0.9714 - val_loss: 0.1385 - val_accuracy: 0.9778\n",
      "Epoch 19/45\n",
      "4/4 [==============================] - 0s 10ms/step - loss: 0.1405 - accuracy: 0.9714 - val_loss: 0.1384 - val_accuracy: 0.9778\n",
      "Epoch 20/45\n",
      "4/4 [==============================] - 0s 10ms/step - loss: 0.1401 - accuracy: 0.9714 - val_loss: 0.1382 - val_accuracy: 0.9778\n",
      "Epoch 21/45\n",
      "4/4 [==============================] - 0s 10ms/step - loss: 0.1384 - accuracy: 0.9714 - val_loss: 0.1346 - val_accuracy: 0.9778\n",
      "Epoch 22/45\n",
      "4/4 [==============================] - 0s 10ms/step - loss: 0.1383 - accuracy: 0.9810 - val_loss: 0.1300 - val_accuracy: 1.0000\n",
      "Epoch 23/45\n",
      "4/4 [==============================] - 0s 10ms/step - loss: 0.1355 - accuracy: 0.9810 - val_loss: 0.1322 - val_accuracy: 0.9778\n",
      "Epoch 24/45\n",
      "4/4 [==============================] - 0s 9ms/step - loss: 0.1347 - accuracy: 0.9714 - val_loss: 0.1344 - val_accuracy: 0.9778\n",
      "Epoch 25/45\n",
      "4/4 [==============================] - 0s 9ms/step - loss: 0.1343 - accuracy: 0.9714 - val_loss: 0.1315 - val_accuracy: 0.9778\n",
      "Epoch 26/45\n",
      "4/4 [==============================] - 0s 9ms/step - loss: 0.1328 - accuracy: 0.9714 - val_loss: 0.1322 - val_accuracy: 0.9778\n",
      "Epoch 27/45\n",
      "4/4 [==============================] - 0s 10ms/step - loss: 0.1320 - accuracy: 0.9714 - val_loss: 0.1289 - val_accuracy: 0.9778\n",
      "Epoch 28/45\n",
      "4/4 [==============================] - 0s 10ms/step - loss: 0.1293 - accuracy: 0.9714 - val_loss: 0.1236 - val_accuracy: 0.9778\n",
      "Epoch 29/45\n",
      "4/4 [==============================] - 0s 9ms/step - loss: 0.1289 - accuracy: 0.9810 - val_loss: 0.1205 - val_accuracy: 1.0000\n",
      "Epoch 30/45\n",
      "4/4 [==============================] - 0s 10ms/step - loss: 0.1322 - accuracy: 0.9714 - val_loss: 0.1193 - val_accuracy: 1.0000\n",
      "Epoch 31/45\n",
      "4/4 [==============================] - 0s 10ms/step - loss: 0.1284 - accuracy: 0.9714 - val_loss: 0.1247 - val_accuracy: 0.9778\n",
      "Epoch 32/45\n",
      "4/4 [==============================] - 0s 10ms/step - loss: 0.1261 - accuracy: 0.9714 - val_loss: 0.1239 - val_accuracy: 0.9778\n",
      "Epoch 33/45\n",
      "4/4 [==============================] - 0s 10ms/step - loss: 0.1245 - accuracy: 0.9714 - val_loss: 0.1187 - val_accuracy: 0.9778\n",
      "Epoch 34/45\n",
      "4/4 [==============================] - 0s 10ms/step - loss: 0.1232 - accuracy: 0.9714 - val_loss: 0.1175 - val_accuracy: 0.9778\n",
      "Epoch 35/45\n",
      "4/4 [==============================] - 0s 10ms/step - loss: 0.1219 - accuracy: 0.9714 - val_loss: 0.1154 - val_accuracy: 0.9778\n",
      "Epoch 36/45\n",
      "4/4 [==============================] - 0s 10ms/step - loss: 0.1211 - accuracy: 0.9714 - val_loss: 0.1147 - val_accuracy: 0.9778\n",
      "Epoch 37/45\n",
      "4/4 [==============================] - 0s 10ms/step - loss: 0.1203 - accuracy: 0.9714 - val_loss: 0.1156 - val_accuracy: 0.9778\n",
      "Epoch 38/45\n",
      "4/4 [==============================] - 0s 10ms/step - loss: 0.1196 - accuracy: 0.9714 - val_loss: 0.1116 - val_accuracy: 1.0000\n",
      "Epoch 39/45\n",
      "4/4 [==============================] - 0s 10ms/step - loss: 0.1185 - accuracy: 0.9810 - val_loss: 0.1101 - val_accuracy: 1.0000\n",
      "Epoch 40/45\n",
      "4/4 [==============================] - 0s 10ms/step - loss: 0.1204 - accuracy: 0.9810 - val_loss: 0.1092 - val_accuracy: 1.0000\n",
      "Epoch 41/45\n",
      "4/4 [==============================] - 0s 10ms/step - loss: 0.1185 - accuracy: 0.9714 - val_loss: 0.1222 - val_accuracy: 0.9778\n",
      "Epoch 42/45\n",
      "4/4 [==============================] - 0s 10ms/step - loss: 0.1209 - accuracy: 0.9714 - val_loss: 0.1222 - val_accuracy: 0.9778\n",
      "Epoch 43/45\n",
      "4/4 [==============================] - 0s 10ms/step - loss: 0.1196 - accuracy: 0.9714 - val_loss: 0.1127 - val_accuracy: 0.9778\n",
      "Epoch 44/45\n",
      "4/4 [==============================] - 0s 10ms/step - loss: 0.1141 - accuracy: 0.9714 - val_loss: 0.1044 - val_accuracy: 1.0000\n",
      "Epoch 45/45\n",
      "4/4 [==============================] - 0s 11ms/step - loss: 0.1178 - accuracy: 0.9714 - val_loss: 0.1037 - val_accuracy: 1.0000\n"
     ]
    }
   ],
   "source": [
    "# compiling model on kernel\n",
    "model.compile(optimizer='adam',loss='categorical_crossentropy',metrics=['accuracy'])\n",
    "\n",
    "# train the model\n",
    "history = model.fit(X_train, y_train, epochs = 45, validation_data = (X_test, y_test))"
   ]
  },
  {
   "cell_type": "code",
   "execution_count": 215,
   "id": "f5e48191-5b4a-4237-ada2-77843f996788",
   "metadata": {},
   "outputs": [
    {
     "name": "stdout",
     "output_type": "stream",
     "text": [
      "2/2 [==============================] - 0s 4ms/step - loss: 0.3251 - accuracy: 0.9556\n"
     ]
    },
    {
     "data": {
      "text/plain": [
       "[0.32511064410209656, 0.9555555582046509]"
      ]
     },
     "execution_count": 215,
     "metadata": {},
     "output_type": "execute_result"
    }
   ],
   "source": [
    "model.evaluate(X_test, y_test)"
   ]
  },
  {
   "cell_type": "code",
   "execution_count": 246,
   "id": "7eba3d53-f2b8-43d7-b311-67e4913621e1",
   "metadata": {},
   "outputs": [
    {
     "name": "stdout",
     "output_type": "stream",
     "text": [
      "1/1 [==============================] - 0s 17ms/step\n"
     ]
    },
    {
     "data": {
      "text/plain": [
       "array([[9.9075079e-01, 9.2461538e-03, 3.1178431e-06],\n",
       "       [2.2628978e-03, 7.0370674e-01, 2.9403043e-01],\n",
       "       [9.9814928e-01, 1.8505764e-03, 1.4394726e-07],\n",
       "       [3.1792719e-03, 7.5869918e-01, 2.3812144e-01],\n",
       "       [9.9298882e-01, 7.0096133e-03, 1.6842999e-06],\n",
       "       [9.9415100e-01, 5.8474033e-03, 1.5848216e-06],\n",
       "       [5.0604763e-03, 7.5018185e-01, 2.4475753e-01],\n",
       "       [1.2944849e-02, 8.8333428e-01, 1.0372091e-01],\n",
       "       [3.0324592e-05, 1.4994769e-01, 8.5002190e-01],\n",
       "       [9.5603186e-01, 4.3900035e-02, 6.7994559e-05]], dtype=float32)"
      ]
     },
     "execution_count": 246,
     "metadata": {},
     "output_type": "execute_result"
    }
   ],
   "source": [
    "# predicting result for test data (10 data)\n",
    "pred = model.predict(X_test[:10])\n",
    "pred"
   ]
  },
  {
   "cell_type": "code",
   "execution_count": 244,
   "id": "6c990315-2329-401e-81d1-72a36065e9a7",
   "metadata": {},
   "outputs": [
    {
     "name": "stdout",
     "output_type": "stream",
     "text": [
      "[0 1 0 1 0 0 1 1 2 0]\n"
     ]
    }
   ],
   "source": [
    "# predicted values for test data\n",
    "# it is categurical values\n",
    "# there is equalent variable with categurical values A=>0, B=>1, C=>3\n",
    "p = np.argmax(pred, axis = 1)\n",
    "print(p)"
   ]
  },
  {
   "cell_type": "code",
   "execution_count": 241,
   "id": "33840189-804d-4533-9f71-8241968cd08c",
   "metadata": {},
   "outputs": [],
   "source": [
    "# accuracy of the model on each epoch saved in history\n",
    "accuracy_history = history.history['accuracy']\n",
    "validation_accuracy = history.history['val_accuracy']"
   ]
  },
  {
   "cell_type": "code",
   "execution_count": 239,
   "id": "980304f6-3e3c-443e-a7e5-9a21efd1bcaa",
   "metadata": {},
   "outputs": [
    {
     "data": {
      "image/png": "[encoded data removed]",
      "text/plain": [
       "<Figure size 640x480 with 1 Axes>"
      ]
     },
     "metadata": {},
     "output_type": "display_data"
    }
   ],
   "source": [
    "# plotting result\n",
    "plt.plot(accuracy_history, 'k-')\n",
    "plt.plot(validation_accuracy, 'r-')\n",
    "plt.title(\"Model accuracy\")\n",
    "plt.xlabel('Epoch')\n",
    "plt.ylabel('Accuracy')\n",
    "plt.legend(['Train', 'Test'])\n",
    "plt.grid()\n",
    "plt.show()"
   ]
  },
  {
   "cell_type": "code",
   "execution_count": 234,
   "id": "4610ba18-e5b0-478f-8a37-a9cabe3aaaaa",
   "metadata": {},
   "outputs": [
    {
     "name": "stdout",
     "output_type": "stream",
     "text": [
      "final accuracy for predicting training data => 0.9523809552192688\n",
      "final accuracy for predicting validation data => 0.9555555582046509\n"
     ]
    }
   ],
   "source": [
    "# final accuracy\n",
    "print(\"final accuracy for predicting training data =>\", accuracy_history[-1])\n",
    "print(\"final accuracy for predicting validation data =>\", validation_accuracy[-1])"
   ]
  },
  {
   "cell_type": "code",
   "execution_count": null,
   "id": "dressed-produce",
   "metadata": {},
   "outputs": [],
   "source": []
  }
 ],
 "metadata": {
  "kernelspec": {
   "display_name": "Python 3",
   "language": "python",
   "name": "python3"
  },
  "language_info": {
   "codemirror_mode": {
    "name": "ipython",
    "version": 3
   },
   "file_extension": ".py",
   "mimetype": "text/x-python",
   "name": "python",
   "nbconvert_exporter": "python",
   "pygments_lexer": "ipython3",
   "version": "3.9.6"
  }
 },
 "nbformat": 4,
 "nbformat_minor": 5
}
